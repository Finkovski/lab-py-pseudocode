{
 "cells": [
  {
   "cell_type": "markdown",
   "metadata": {},
   "source": [
    "# LAB | Pseudocode Using Python\n",
    "\n",
    "## Overview\n",
    "\n",
    "This exercise will help you practice writing pseudocode and translating it into Python code. Pseudocode is a way to describe algorithms in a human-readable format, which can then be implemented in programming languages.\n",
    "\n"
   ]
  },
  {
   "cell_type": "markdown",
   "metadata": {},
   "source": [
    "### Exercise 1: Multiply Two Numbers\n",
    "\n",
    "Write a pseudocode to read two numbers and multiply them together. Then, write the equivalent Python code."
   ]
  },
  {
   "cell_type": "markdown",
   "metadata": {},
   "source": [
    "START  \n",
    "READ number1  \n",
    "READ number2  \n",
    "COMPUTE result = number1 * number2  \n",
    "PRINT result  \n",
    "END"
   ]
  },
  {
   "cell_type": "code",
   "execution_count": 3,
   "metadata": {},
   "outputs": [
    {
     "name": "stdout",
     "output_type": "stream",
     "text": [
      "The result is: 2.0\n"
     ]
    }
   ],
   "source": [
    "# Read two numbers\n",
    "number1 = float(input(\"Enter the first number: \"))\n",
    "number2 = float(input(\"Enter the second number: \"))\n",
    "\n",
    "# Multiply the numbers\n",
    "result = number1 * number2\n",
    "\n",
    "# Print the result\n",
    "print(\"The result is:\", result)"
   ]
  },
  {
   "cell_type": "markdown",
   "metadata": {},
   "source": [
    "### Exercise 2: Check Even or Odd\n",
    "\n",
    "Write pseudocode that checks if a number is even or odd and prints the result. Then, write the equivalent Python code."
   ]
  },
  {
   "cell_type": "markdown",
   "metadata": {},
   "source": [
    "START  \n",
    "READ number  \n",
    "IF number MOD 2 == 0 THEN  \n",
    "&nbsp;&nbsp;&nbsp;&nbsp;PRINT \"Even\"  \n",
    "ELSE  \n",
    "&nbsp;&nbsp;&nbsp;&nbsp;PRINT \"Odd\"  \n",
    "END IF  \n",
    "END"
   ]
  },
  {
   "cell_type": "code",
   "execution_count": 4,
   "metadata": {},
   "outputs": [
    {
     "name": "stdout",
     "output_type": "stream",
     "text": [
      "Even\n"
     ]
    }
   ],
   "source": [
    "# Read a number\n",
    "number = int(input(\"Enter a number: \"))\n",
    "\n",
    "# Check if the number is even or odd\n",
    "if number % 2 == 0:\n",
    "    print(\"Even\")\n",
    "else:\n",
    "    print(\"Odd\")"
   ]
  },
  {
   "cell_type": "markdown",
   "metadata": {},
   "source": [
    "### Exercise 3: Sum of First N Natural Numbers\n",
    "\n",
    "Write pseudocode to calculate the sum of the first N natural numbers. Then, write the equivalent Python code."
   ]
  },
  {
   "cell_type": "markdown",
   "metadata": {},
   "source": [
    "START  \n",
    "READ number1  \n",
    "READ number2  \n",
    "READ number3  \n",
    "COMPUTE sum = number1 + number2 + number3  \n",
    "PRINT sum  \n",
    "END"
   ]
  },
  {
   "cell_type": "code",
   "execution_count": 6,
   "metadata": {},
   "outputs": [
    {
     "name": "stdout",
     "output_type": "stream",
     "text": [
      "The sum is: 10.0\n"
     ]
    }
   ],
   "source": [
    "# Read three numbers\n",
    "number1 = float(input(\"Enter first number: \"))\n",
    "number2 = float(input(\"Enter second number: \"))\n",
    "number3 = float(input(\"Enter third number: \"))\n",
    "\n",
    "# Compute the sum\n",
    "sum_result = number1 + number2 + number3\n",
    "\n",
    "# Print the result\n",
    "print(\"The sum is:\", sum_result)"
   ]
  },
  {
   "cell_type": "markdown",
   "metadata": {},
   "source": [
    "### Exercise 4: Find Maximum of Three Numbers\n",
    "\n",
    "Write pseudocode that finds the maximum of three numbers entered by the user. Then, write the equivalent Python code."
   ]
  },
  {
   "cell_type": "markdown",
   "metadata": {},
   "source": [
    "START  \n",
    "READ number1  \n",
    "READ number2  \n",
    "READ number3  \n",
    "IF number1 >= number2 AND number1 >= number3 THEN  \n",
    "&nbsp;&nbsp;&nbsp;&nbsp;PRINT number1 is the maximum  \n",
    "ELSE IF number2 >= number1 AND number2 >= number3 THEN  \n",
    "&nbsp;&nbsp;&nbsp;&nbsp;PRINT number2 is the maximum  \n",
    "ELSE  \n",
    "&nbsp;&nbsp;&nbsp;&nbsp;PRINT number3 is the maximum  \n",
    "END IF  \n",
    "END"
   ]
  },
  {
   "cell_type": "code",
   "execution_count": 8,
   "metadata": {},
   "outputs": [
    {
     "name": "stdout",
     "output_type": "stream",
     "text": [
      "6.0 is the maximum\n"
     ]
    }
   ],
   "source": [
    "# Read three numbers\n",
    "number1 = float(input(\"Enter first number: \"))\n",
    "number2 = float(input(\"Enter second number: \"))\n",
    "number3 = float(input(\"Enter third number: \"))\n",
    "\n",
    "# Determine the maximum\n",
    "if number1 >= number2 and number1 >= number3:\n",
    "    print(f\"{number1} is the maximum\")\n",
    "elif number2 >= number1 and number2 >= number3:\n",
    "    print(f\"{number2} is the maximum\")\n",
    "else:\n",
    "    print(f\"{number3} is the maximum\")\n"
   ]
  },
  {
   "cell_type": "markdown",
   "metadata": {},
   "source": [
    "### Exercise 5: Count Vowels in a String\n",
    "\n",
    "Write pseudocode to count the number of vowels in a given string and print the count. Then, write the equivalent Python code."
   ]
  },
  {
   "cell_type": "markdown",
   "metadata": {},
   "source": [
    "START  \n",
    "READ number  \n",
    "SET factorial = 1  \n",
    "FOR i FROM 1 TO number DO  \n",
    "&nbsp;&nbsp;&nbsp;&nbsp;SET factorial = factorial * i  \n",
    "END FOR  \n",
    "PRINT factorial  \n",
    "END"
   ]
  },
  {
   "cell_type": "code",
   "execution_count": null,
   "metadata": {},
   "outputs": [
    {
     "name": "stdout",
     "output_type": "stream",
     "text": [
      "Factorial is: 720\n"
     ]
    }
   ],
   "source": [
    "# Read a number\n",
    "number = int(input(\"Enter a number: \"))\n",
    "\n",
    "# Calculate the factorial\n",
    "factorial = 1\n",
    "for i in range(1, number + 1):\n",
    "    factorial *= i\n",
    "\n",
    "# Print the result\n",
    "print(\"Factorial is:\", factorial)"
   ]
  },
  {
   "cell_type": "markdown",
   "metadata": {},
   "source": [
    "## Bonus Exercises\n",
    "\n",
    "### Bonus Exercise 6: Reverse a String\n",
    "\n",
    "Write pseudocode to reverse a given string and print it out."
   ]
  },
  {
   "cell_type": "markdown",
   "metadata": {},
   "source": [
    "START  \n",
    "READ N  \n",
    "FOR i FROM 1 TO N DO  \n",
    "&nbsp;&nbsp;&nbsp;&nbsp;IF i MOD 2 == 0 THEN  \n",
    "&nbsp;&nbsp;&nbsp;&nbsp;&nbsp;&nbsp;&nbsp;&nbsp;PRINT i  \n",
    "&nbsp;&nbsp;&nbsp;&nbsp;END IF  \n",
    "END FOR  \n",
    "END"
   ]
  },
  {
   "cell_type": "code",
   "execution_count": 10,
   "metadata": {},
   "outputs": [
    {
     "name": "stdout",
     "output_type": "stream",
     "text": [
      "2\n",
      "4\n",
      "6\n"
     ]
    }
   ],
   "source": [
    "# Read the upper limit\n",
    "N = int(input(\"Enter the value of N: \"))\n",
    "\n",
    "# Print even numbers from 1 to N\n",
    "for i in range(1, N + 1):\n",
    "    if i % 2 == 0:\n",
    "        print(i)"
   ]
  },
  {
   "cell_type": "markdown",
   "metadata": {},
   "source": [
    "### Bonus Exercise 7: Print Multiplication Table of a Number\n",
    "\n",
    "Write pseudocode to print the multiplication table of a given number up to 10."
   ]
  },
  {
   "cell_type": "markdown",
   "metadata": {},
   "source": [
    "START  \n",
    "READ N  \n",
    "SET sum = 0  \n",
    "FOR i FROM 1 TO N DO  \n",
    "&nbsp;&nbsp;&nbsp;&nbsp;SET sum = sum + i  \n",
    "END FOR  \n",
    "PRINT sum  \n",
    "END"
   ]
  },
  {
   "cell_type": "code",
   "execution_count": 11,
   "metadata": {},
   "outputs": [
    {
     "name": "stdout",
     "output_type": "stream",
     "text": [
      "Sum from 1 to 5 is: 15\n"
     ]
    }
   ],
   "source": [
    "# Read the upper limit\n",
    "N = int(input(\"Enter the value of N: \"))\n",
    "\n",
    "# Calculate the sum from 1 to N\n",
    "sum_total = 0\n",
    "for i in range(1, N + 1):\n",
    "    sum_total += i\n",
    "\n",
    "# Print the result\n",
    "print(\"Sum from 1 to\", N, \"is:\", sum_total)"
   ]
  },
  {
   "cell_type": "markdown",
   "metadata": {},
   "source": [
    "### Bonus Exercise 8: Count Words in a String\n",
    "\n",
    "Write pseudocode that counts the words in a given string and prints the result."
   ]
  },
  {
   "cell_type": "markdown",
   "metadata": {},
   "source": [
    "START  \n",
    "READ number  \n",
    "IF number <= 1 THEN  \n",
    "&nbsp;&nbsp;&nbsp;&nbsp;PRINT \"Not Prime\"  \n",
    "ELSE  \n",
    "&nbsp;&nbsp;&nbsp;&nbsp;SET is_prime = True  \n",
    "&nbsp;&nbsp;&nbsp;&nbsp;FOR i FROM 2 TO number - 1 DO  \n",
    "&nbsp;&nbsp;&nbsp;&nbsp;&nbsp;&nbsp;&nbsp;&nbsp;IF number MOD i == 0 THEN  \n",
    "&nbsp;&nbsp;&nbsp;&nbsp;&nbsp;&nbsp;&nbsp;&nbsp;&nbsp;&nbsp;&nbsp;&nbsp;SET is_prime = False  \n",
    "&nbsp;&nbsp;&nbsp;&nbsp;&nbsp;&nbsp;&nbsp;&nbsp;&nbsp;&nbsp;&nbsp;&nbsp;BREAK  \n",
    "&nbsp;&nbsp;&nbsp;&nbsp;END FOR  \n",
    "&nbsp;&nbsp;&nbsp;&nbsp;IF is_prime THEN  \n",
    "&nbsp;&nbsp;&nbsp;&nbsp;&nbsp;&nbsp;&nbsp;&nbsp;PRINT \"Prime\"  \n",
    "&nbsp;&nbsp;&nbsp;&nbsp;ELSE  \n",
    "&nbsp;&nbsp;&nbsp;&nbsp;&nbsp;&nbsp;&nbsp;&nbsp;PRINT \"Not Prime\"  \n",
    "END IF  \n",
    "END"
   ]
  },
  {
   "cell_type": "code",
   "execution_count": 12,
   "metadata": {},
   "outputs": [
    {
     "name": "stdout",
     "output_type": "stream",
     "text": [
      "Prime\n"
     ]
    }
   ],
   "source": [
    "# Read a number\n",
    "number = int(input(\"Enter a number: \"))\n",
    "\n",
    "# Check for prime\n",
    "if number <= 1:\n",
    "    print(\"Not Prime\")\n",
    "else:\n",
    "    is_prime = True\n",
    "    for i in range(2, number):\n",
    "        if number % i == 0:\n",
    "            is_prime = False\n",
    "            break\n",
    "    if is_prime:\n",
    "        print(\"Prime\")\n",
    "    else:\n",
    "        print(\"Not Prime\")"
   ]
  },
  {
   "cell_type": "markdown",
   "metadata": {},
   "source": [
    "### Bonus Exercise 9: Find Factorial of a Number\n",
    "\n",
    "Write pseudocode that calculates the factorial of a given positive integer."
   ]
  },
  {
   "cell_type": "markdown",
   "metadata": {},
   "source": [
    "START  \n",
    "READ number  \n",
    "SET reverse = 0  \n",
    "WHILE number > 0 DO  \n",
    "&nbsp;&nbsp;&nbsp;&nbsp;SET digit = number MOD 10  \n",
    "&nbsp;&nbsp;&nbsp;&nbsp;SET reverse = reverse * 10 + digit  \n",
    "&nbsp;&nbsp;&nbsp;&nbsp;SET number = number DIV 10  \n",
    "END WHILE  \n",
    "PRINT reverse  \n",
    "END"
   ]
  },
  {
   "cell_type": "code",
   "execution_count": 13,
   "metadata": {},
   "outputs": [
    {
     "name": "stdout",
     "output_type": "stream",
     "text": [
      "Reversed number is: 5\n"
     ]
    }
   ],
   "source": [
    "# Read a number\n",
    "number = int(input(\"Enter a number: \"))\n",
    "\n",
    "# Reverse the number\n",
    "reverse = 0\n",
    "while number > 0:\n",
    "    digit = number % 10\n",
    "    reverse = reverse * 10 + digit\n",
    "    number = number // 10\n",
    "\n",
    "# Print the reversed number\n",
    "print(\"Reversed number is:\", reverse)"
   ]
  },
  {
   "cell_type": "markdown",
   "metadata": {},
   "source": [
    "### Bonus Exercise 10: FizzBuzz Problem\n",
    "\n",
    "Write pseudocode for the FizzBuzz problem where you print numbers from 1 to N but replace multiples of three with \"Fizz\" and multiples of five with \"Buzz\"."
   ]
  },
  {
   "cell_type": "markdown",
   "metadata": {},
   "source": [
    "START  \n",
    "READ number  \n",
    "FOR i FROM 1 TO 10 DO  \n",
    "&nbsp;&nbsp;&nbsp;&nbsp;SET result = number * i  \n",
    "&nbsp;&nbsp;&nbsp;&nbsp;PRINT number, \"*\", i, \"=\", result  \n",
    "END FOR  \n",
    "END"
   ]
  },
  {
   "cell_type": "code",
   "execution_count": 14,
   "metadata": {},
   "outputs": [
    {
     "name": "stdout",
     "output_type": "stream",
     "text": [
      "5 * 1 = 5\n",
      "5 * 2 = 10\n",
      "5 * 3 = 15\n",
      "5 * 4 = 20\n",
      "5 * 5 = 25\n",
      "5 * 6 = 30\n",
      "5 * 7 = 35\n",
      "5 * 8 = 40\n",
      "5 * 9 = 45\n",
      "5 * 10 = 50\n"
     ]
    }
   ],
   "source": [
    "# Read a number\n",
    "number = int(input(\"Enter a number: \"))\n",
    "\n",
    "# Generate multiplication table\n",
    "for i in range(1, 11):\n",
    "    result = number * i\n",
    "    print(f\"{number} * {i} = {result}\")"
   ]
  }
 ],
 "metadata": {
  "kernelspec": {
   "display_name": "Python 3",
   "language": "python",
   "name": "python3"
  },
  "language_info": {
   "codemirror_mode": {
    "name": "ipython",
    "version": 3
   },
   "file_extension": ".py",
   "mimetype": "text/x-python",
   "name": "python",
   "nbconvert_exporter": "python",
   "pygments_lexer": "ipython3",
   "version": "3.9.6"
  }
 },
 "nbformat": 4,
 "nbformat_minor": 2
}
